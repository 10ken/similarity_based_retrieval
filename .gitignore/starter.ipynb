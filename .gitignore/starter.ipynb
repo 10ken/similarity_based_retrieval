{
 "cells": [
  {
   "cell_type": "markdown",
   "id": "14b00228",
   "metadata": {},
   "source": [
    "**Artificial Intelligence Engineer at Duket**\n",
    "\n",
    "[Job Description Link](https://www.linkedin.com/jobs/view/3705641614/?refId=c884c01f-e55a-416b-a39c-785a71af85bf&trackingId=UQm1JvuwT1CtxtuNBV%2FiCQ%3D%3D)\n",
    "\n",
    "**Deadline:** \\\n",
    "September 9, 2023 by 8pm\n",
    "\n",
    "**Key Qualifications**\n",
    "- Python\n",
    "- PyTorch\n",
    "- Math & Stats\n",
    "- interactive system\n",
    "- models for image, text, and multimodal models\n",
    "- implement research papers\n",
    "- wrangle with unstructured data\n",
    "\n",
    "**Recruiter request:** \\\n",
    "Create a any model to perform similarity based retrieval.\n",
    "\n",
    "\n",
    "**Dataset** \\\n",
    "[Fashion Product Images](https://www.kaggle.com/datasets/paramaggarwal/fashion-product-images-dataset)\n",
    "\n",
    "**Other potential datasets**\n",
    "\n",
    "[Accessory Product Images](https://www.kaggle.com/code/jonathanoheix/product-recommendation-based-on-visual-similarity)\n",
    "\n",
    "[Fashion Product Images](https://www.kaggle.com/datasets/paramaggarwal/fashion-product-images-dataset)\n",
    "\n"
   ]
  },
  {
   "cell_type": "markdown",
   "id": "861ec3a4",
   "metadata": {},
   "source": [
    "**Steps**\n",
    "1. Explore images\n",
    "2. Base model\n",
    "3. Add "
   ]
  },
  {
   "cell_type": "code",
   "execution_count": null,
   "id": "f1cf75c1",
   "metadata": {},
   "outputs": [],
   "source": []
  }
 ],
 "metadata": {
  "kernelspec": {
   "display_name": "Python 3 (ipykernel)",
   "language": "python",
   "name": "python3"
  },
  "language_info": {
   "codemirror_mode": {
    "name": "ipython",
    "version": 3
   },
   "file_extension": ".py",
   "mimetype": "text/x-python",
   "name": "python",
   "nbconvert_exporter": "python",
   "pygments_lexer": "ipython3",
   "version": "3.9.7"
  }
 },
 "nbformat": 4,
 "nbformat_minor": 5
}
